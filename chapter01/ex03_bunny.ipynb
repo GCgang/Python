{
 "cells": [
  {
   "cell_type": "markdown",
   "metadata": {},
   "source": [
    "# 3차원 물체를 그려봅시다\n",
    "\n",
    "[LibIGL](https://libigl.github.io/libigl-python-bindings/tut-chapter0/)의 예제를 그대로 사용합니다."
   ]
  },
  {
   "cell_type": "markdown",
   "metadata": {},
   "source": [
    "### igl, meshplot 설치\n",
    "\n",
    "필요한 패키지들을 먼저 설치해줍시다.\n",
    "\n",
    ">`conda install -c conda-forge igl`  \n",
    ">`conda install -c conda-forge meshplot `  \n",
    "\n",
    "### 삼각형 두 개  \n",
    "\n",
    "삼각형을 딱 두 개만 그려봅시다. 삼차원이기 때문에 마우스로 회전시켜볼 수 있어요."
   ]
  },
  {
   "cell_type": "code",
   "execution_count": null,
   "metadata": {},
   "outputs": [],
   "source": [
    "import igl\n",
    "import scipy as sp\n",
    "import numpy as np\n",
    "from meshplot import plot, subplot, interact\n",
    "\n",
    "import os\n",
    "\n",
    "root_folder = os.getcwd()\n",
    "\n",
    "v: np.array\n",
    "f: np.array\n",
    "\n",
    "V = np.array([[0, 0, 0], [1, 0, 0], [1, 1, 1], [2, 1, 0]])\n",
    "\n",
    "F = np.array([[0, 1, 2], [1, 3, 2]])\n",
    "\n",
    "plot(V, F)"
   ]
  },
  {
   "cell_type": "markdown",
   "metadata": {},
   "source": [
    "### 스탠포드 버니(Stanford Bunny) 그리기\n",
    "\n",
    "3차원 모델이 저장된 bunny.off 파일을 읽어서 그려줍니다. 사랑스러운 버니를 만나보세요.\n",
    "\n",
    "[주의] 위의 셀을 먼저 실행시킨 후에 아래 셀을 실행시켜야 합니다. 주피터 노트북의 특징입니다."
   ]
  },
  {
   "cell_type": "code",
   "execution_count": null,
   "metadata": {},
   "outputs": [],
   "source": [
    "## Load a mesh in OFF format\n",
    "v, f = igl.read_triangle_mesh(\"bunny.off\")\n",
    "\n",
    "## Print the vertices and faces matrices\n",
    "print(\"Vertices: \", len(v))\n",
    "print(\"Faces: \", len(f))\n",
    "\n",
    "plot(v, f)"
   ]
  },
  {
   "cell_type": "markdown",
   "metadata": {},
   "source": [
    "### 사각형 그리기"
   ]
  },
  {
   "cell_type": "code",
   "execution_count": null,
   "metadata": {},
   "outputs": [],
   "source": [
    "import igl\n",
    "import scipy as sp\n",
    "import numpy as np\n",
    "import meshplot import plot, subplot, interact\n",
    "\n",
    "import os\n",
    "root_folder = os.getcwd()\n",
    "\n",
    "v: np.array\n",
    "f: np.array\n",
    "\n",
    "V = np.array([\n",
    "    [1., 0, 0],\n",
    "    [0, 0, 0],\n",
    "    [1, 1, 1],\n",
    "    [0, 1, 0]\n",
    "])\n",
    "\n",
    "F = np.array([\n",
    "    [0, 1, 2],\n",
    "    [1, 3, 2]\n",
    "])\n",
    "\n",
    "plot(V, F)"
   ]
  }
 ],
 "metadata": {
  "kernelspec": {
   "display_name": "Python 3",
   "language": "python",
   "name": "python3"
  },
  "language_info": {
   "codemirror_mode": {
    "name": "ipython",
    "version": 3
   },
   "file_extension": ".py",
   "mimetype": "text/x-python",
   "name": "python",
   "nbconvert_exporter": "python",
   "pygments_lexer": "ipython3",
   "version": "3.8.9"
  }
 },
 "nbformat": 4,
 "nbformat_minor": 2
}
